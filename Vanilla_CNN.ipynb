{
  "nbformat": 4,
  "nbformat_minor": 0,
  "metadata": {
    "colab": {
      "name": "CNN_Assignment4.ipynb",
      "provenance": [],
      "collapsed_sections": []
    },
    "kernelspec": {
      "name": "python3",
      "display_name": "Python 3"
    },
    "language_info": {
      "name": "python"
    },
    "accelerator": "GPU"
  },
  "cells": [
    {
      "cell_type": "code",
      "metadata": {
        "id": "9BF7082E8kVe"
      },
      "source": [
        "import gzip\n",
        "import numpy as np"
      ],
      "execution_count": 1,
      "outputs": []
    },
    {
      "cell_type": "code",
      "metadata": {
        "id": "0aB4wbH8VgNs"
      },
      "source": [
        "from keras.models import Sequential\n",
        "from keras.layers import Conv2D, MaxPooling2D\n",
        "from keras.layers import Flatten, Dense, BatchNormalization\n",
        "from keras.optimizers import SGD\n",
        "from keras.wrappers.scikit_learn import KerasClassifier\n",
        "from sklearn.model_selection import GridSearchCV\n",
        "from keras.utils import to_categorical"
      ],
      "execution_count": 2,
      "outputs": []
    },
    {
      "cell_type": "markdown",
      "metadata": {
        "id": "ZZ0Vmcbl0f0Z"
      },
      "source": [
        "**Load Data**"
      ]
    },
    {
      "cell_type": "code",
      "metadata": {
        "id": "XgNnej7fysE0"
      },
      "source": [
        "train_imgs = gzip.open('train-images-idx3-ubyte.gz','r') \n",
        "train_label = gzip.open('train-labels-idx1-ubyte.gz','r') \n",
        "\n",
        "test_imgs = gzip.open('t10k-images-idx3-ubyte.gz' ,'r') \n",
        "test_label = gzip.open('t10k-labels-idx1-ubyte.gz' ,'r') "
      ],
      "execution_count": 3,
      "outputs": []
    },
    {
      "cell_type": "code",
      "metadata": {
        "id": "MJNneG2pysCQ"
      },
      "source": [
        "image_size = 28\n",
        "train_images = 60000\n",
        "test_images = 10000\n",
        "\n",
        "train_imgs.read(16)\n",
        "buf_train = train_imgs.read(image_size * image_size * train_images)\n",
        "X_train = np.frombuffer(buf_train, dtype=np.uint8).astype(np.float32)\n",
        "X_train = X_train.reshape( train_images, image_size, image_size, 1)\n",
        "\n",
        "test_imgs.read(16)\n",
        "buf_test = test_imgs.read(image_size * image_size * test_images)\n",
        "X_test = np.frombuffer(buf_test, dtype=np.uint8).astype(np.float32)\n",
        "X_test = X_test.reshape( test_images, image_size, image_size, 1)"
      ],
      "execution_count": 4,
      "outputs": []
    },
    {
      "cell_type": "code",
      "metadata": {
        "id": "UJawzQJrv105"
      },
      "source": [
        "X_train = X_train/255\n",
        "X_test = X_test/255"
      ],
      "execution_count": 5,
      "outputs": []
    },
    {
      "cell_type": "code",
      "metadata": {
        "id": "LjZQsyjayr8O"
      },
      "source": [
        "train_label.read(8)\n",
        "y_train1 = []\n",
        "for i in range(0,60000):   \n",
        "    buf_train_label = train_label.read(1)\n",
        "    labels = np.frombuffer(buf_train_label, dtype=np.uint8).astype(np.int64)\n",
        "    y_train1.append(labels)\n",
        "    \n",
        "test_label.read(8)\n",
        "y_test1 = []\n",
        "for i in range(0,10000):   \n",
        "    buf_test_label = test_label.read(1)\n",
        "    labels = np.frombuffer(buf_test_label, dtype=np.uint8).astype(np.int64)\n",
        "    y_test1.append(labels)\n",
        "    \n",
        "y_train1 = np.array(y_train1)\n",
        "y_test1 = np.array(y_test1)"
      ],
      "execution_count": 6,
      "outputs": []
    },
    {
      "cell_type": "code",
      "metadata": {
        "id": "CzNxHNlGo_EM"
      },
      "source": [
        "y_train = to_categorical(y_train1)\n",
        "y_test = to_categorical(y_test1)"
      ],
      "execution_count": 7,
      "outputs": []
    },
    {
      "cell_type": "code",
      "metadata": {
        "id": "-PYWhUmE9RFg",
        "colab": {
          "base_uri": "https://localhost:8080/",
          "height": 265
        },
        "outputId": "1c51618b-b8c6-4366-b2a5-ecc03cd8e586"
      },
      "source": [
        "import matplotlib.pyplot as plt\n",
        "image = np.asarray(X_train[0]).squeeze()\n",
        "plt.imshow(image)\n",
        "plt.show()"
      ],
      "execution_count": 8,
      "outputs": [
        {
          "output_type": "display_data",
          "data": {
            "image/png": "[encoded data removed]",
            "text/plain": [
              "<Figure size 432x288 with 1 Axes>"
            ]
          },
          "metadata": {
            "tags": [],
            "needs_background": "light"
          }
        }
      ]
    },
    {
      "cell_type": "markdown",
      "metadata": {
        "id": "EexplfWLgAyj"
      },
      "source": [
        "**CNN Model with gridsearch for hyperparameter tuning**"
      ]
    },
    {
      "cell_type": "code",
      "metadata": {
        "id": "GquQJJOh2WrR"
      },
      "source": [
        "def define_model(neurons=64,conv_filter=32,learn_rate=0.01,optimizer='Adam'):\n",
        "  model = Sequential()\n",
        "  model.add(Conv2D(conv_filter,(3, 3),activation='relu',kernel_initializer='he_uniform',input_shape=(28, 28, 1)))\n",
        "  model.add(BatchNormalization())\n",
        "  model.add(MaxPooling2D((2, 2)))\n",
        " \n",
        "  model.add(Flatten()) \n",
        "  model.add(Dense(neurons, activation='relu', kernel_initializer='he_uniform'))\n",
        "  model.add(Dense(10, activation='softmax'))\n",
        "\n",
        "  # compile model\n",
        "  loss_fn='categorical_crossentropy'\n",
        "  if optimizer=='Adam':\n",
        "    opt = keras.optimizers.Adam(learning_rate=learn_rate)\n",
        "    model.compile(optimizer=opt, loss=loss_fn, metrics=['accuracy'])\n",
        "  else:\n",
        "    opt = SGD(lr=learn_rate)\n",
        "    model.compile(optimizer=opt, loss=loss_fn, metrics=['accuracy'])\n",
        "  return model"
      ],
      "execution_count": 9,
      "outputs": []
    },
    {
      "cell_type": "code",
      "metadata": {
        "colab": {
          "base_uri": "https://localhost:8080/"
        },
        "id": "xep871zA2cyT",
        "outputId": "96240f12-f43c-4d98-8a21-ecb29887b65e"
      },
      "source": [
        "# create model\n",
        "model = KerasClassifier(build_fn=define_model, verbose=0)\n",
        "\n",
        "# define the grid search parameters\n",
        "batch_size = [64, 112]\n",
        "epochs = [30, 40]\n",
        "optimizer = ['SGD', 'Adam'] \n",
        "learn_rate = [0.001, 0.01]\n",
        "neurons= [64,128]\n",
        "conv_filter = [32,64]\n",
        "\n",
        "param_grid = dict(batch_size=batch_size, epochs=epochs,learn_rate=learn_rate,neurons=neurons,optimizer=optimizer,conv_filter=conv_filter)\n",
        "grid = GridSearchCV(estimator=model, param_grid=param_grid, n_jobs=-1, cv=3)\n",
        "grid_result = grid.fit(X_train,y_train, validation_split=0.1, verbose=1)"
      ],
      "execution_count": 10,
      "outputs": [
        {
          "output_type": "stream",
          "text": [
            "/usr/local/lib/python3.7/dist-packages/joblib/externals/loky/process_executor.py:691: UserWarning: A worker stopped while some jobs were given to the executor. This can be caused by a too short worker timeout or by a memory leak.\n",
            "  \"timeout or by a memory leak.\", UserWarning\n"
          ],
          "name": "stderr"
        },
        {
          "output_type": "stream",
          "text": [
            "Epoch 1/40\n",
            "844/844 [==============================] - 8s 7ms/step - loss: 0.3395 - accuracy: 0.9043 - val_loss: 0.0739 - val_accuracy: 0.9810\n",
            "Epoch 2/40\n",
            "844/844 [==============================] - 5s 6ms/step - loss: 0.0601 - accuracy: 0.9821 - val_loss: 0.0539 - val_accuracy: 0.9865\n",
            "Epoch 3/40\n",
            "844/844 [==============================] - 5s 7ms/step - loss: 0.0353 - accuracy: 0.9904 - val_loss: 0.0494 - val_accuracy: 0.9870\n",
            "Epoch 4/40\n",
            "844/844 [==============================] - 5s 7ms/step - loss: 0.0250 - accuracy: 0.9942 - val_loss: 0.0502 - val_accuracy: 0.9860\n",
            "Epoch 5/40\n",
            "844/844 [==============================] - 5s 6ms/step - loss: 0.0166 - accuracy: 0.9965 - val_loss: 0.0476 - val_accuracy: 0.9877\n",
            "Epoch 6/40\n",
            "844/844 [==============================] - 5s 7ms/step - loss: 0.0118 - accuracy: 0.9980 - val_loss: 0.0453 - val_accuracy: 0.9870\n",
            "Epoch 7/40\n",
            "844/844 [==============================] - 5s 6ms/step - loss: 0.0090 - accuracy: 0.9987 - val_loss: 0.0462 - val_accuracy: 0.9878\n",
            "Epoch 8/40\n",
            "844/844 [==============================] - 6s 7ms/step - loss: 0.0069 - accuracy: 0.9995 - val_loss: 0.0451 - val_accuracy: 0.9880\n",
            "Epoch 9/40\n",
            "844/844 [==============================] - 5s 6ms/step - loss: 0.0053 - accuracy: 0.9997 - val_loss: 0.0463 - val_accuracy: 0.9880\n",
            "Epoch 10/40\n",
            "844/844 [==============================] - 5s 6ms/step - loss: 0.0045 - accuracy: 0.9998 - val_loss: 0.0464 - val_accuracy: 0.9882\n",
            "Epoch 11/40\n",
            "844/844 [==============================] - 5s 7ms/step - loss: 0.0035 - accuracy: 0.9999 - val_loss: 0.0451 - val_accuracy: 0.9888\n",
            "Epoch 12/40\n",
            "844/844 [==============================] - 5s 7ms/step - loss: 0.0031 - accuracy: 0.9999 - val_loss: 0.0475 - val_accuracy: 0.9885\n",
            "Epoch 13/40\n",
            "844/844 [==============================] - 5s 6ms/step - loss: 0.0029 - accuracy: 1.0000 - val_loss: 0.0458 - val_accuracy: 0.9887\n",
            "Epoch 14/40\n",
            "844/844 [==============================] - 5s 6ms/step - loss: 0.0025 - accuracy: 1.0000 - val_loss: 0.0467 - val_accuracy: 0.9882\n",
            "Epoch 15/40\n",
            "844/844 [==============================] - 6s 7ms/step - loss: 0.0022 - accuracy: 1.0000 - val_loss: 0.0464 - val_accuracy: 0.9887\n",
            "Epoch 16/40\n",
            "844/844 [==============================] - 5s 6ms/step - loss: 0.0021 - accuracy: 1.0000 - val_loss: 0.0467 - val_accuracy: 0.9888\n",
            "Epoch 17/40\n",
            "844/844 [==============================] - 5s 6ms/step - loss: 0.0019 - accuracy: 1.0000 - val_loss: 0.0462 - val_accuracy: 0.9887\n",
            "Epoch 18/40\n",
            "844/844 [==============================] - 5s 7ms/step - loss: 0.0018 - accuracy: 1.0000 - val_loss: 0.0465 - val_accuracy: 0.9895\n",
            "Epoch 19/40\n",
            "844/844 [==============================] - 5s 6ms/step - loss: 0.0016 - accuracy: 1.0000 - val_loss: 0.0467 - val_accuracy: 0.9890\n",
            "Epoch 20/40\n",
            "844/844 [==============================] - 5s 6ms/step - loss: 0.0015 - accuracy: 1.0000 - val_loss: 0.0472 - val_accuracy: 0.9887\n",
            "Epoch 21/40\n",
            "844/844 [==============================] - 5s 7ms/step - loss: 0.0014 - accuracy: 1.0000 - val_loss: 0.0474 - val_accuracy: 0.9887\n",
            "Epoch 22/40\n",
            "844/844 [==============================] - 6s 7ms/step - loss: 0.0013 - accuracy: 1.0000 - val_loss: 0.0474 - val_accuracy: 0.9890\n",
            "Epoch 23/40\n",
            "844/844 [==============================] - 5s 7ms/step - loss: 0.0012 - accuracy: 1.0000 - val_loss: 0.0473 - val_accuracy: 0.9892\n",
            "Epoch 24/40\n",
            "844/844 [==============================] - 6s 7ms/step - loss: 0.0011 - accuracy: 1.0000 - val_loss: 0.0473 - val_accuracy: 0.9890\n",
            "Epoch 25/40\n",
            "844/844 [==============================] - 5s 7ms/step - loss: 0.0011 - accuracy: 1.0000 - val_loss: 0.0477 - val_accuracy: 0.9892\n",
            "Epoch 26/40\n",
            "844/844 [==============================] - 6s 7ms/step - loss: 0.0011 - accuracy: 1.0000 - val_loss: 0.0478 - val_accuracy: 0.9888\n",
            "Epoch 27/40\n",
            "844/844 [==============================] - 6s 7ms/step - loss: 9.8560e-04 - accuracy: 1.0000 - val_loss: 0.0482 - val_accuracy: 0.9892\n",
            "Epoch 28/40\n",
            "844/844 [==============================] - 5s 6ms/step - loss: 9.6514e-04 - accuracy: 1.0000 - val_loss: 0.0489 - val_accuracy: 0.9888\n",
            "Epoch 29/40\n",
            "844/844 [==============================] - 6s 7ms/step - loss: 8.6528e-04 - accuracy: 1.0000 - val_loss: 0.0485 - val_accuracy: 0.9892\n",
            "Epoch 30/40\n",
            "844/844 [==============================] - 6s 7ms/step - loss: 8.7352e-04 - accuracy: 1.0000 - val_loss: 0.0485 - val_accuracy: 0.9890\n",
            "Epoch 31/40\n",
            "844/844 [==============================] - 6s 7ms/step - loss: 8.1150e-04 - accuracy: 1.0000 - val_loss: 0.0487 - val_accuracy: 0.9890\n",
            "Epoch 32/40\n",
            "844/844 [==============================] - 6s 7ms/step - loss: 7.9259e-04 - accuracy: 1.0000 - val_loss: 0.0491 - val_accuracy: 0.9892\n",
            "Epoch 33/40\n",
            "844/844 [==============================] - 6s 7ms/step - loss: 7.6455e-04 - accuracy: 1.0000 - val_loss: 0.0492 - val_accuracy: 0.9893\n",
            "Epoch 34/40\n",
            "844/844 [==============================] - 6s 7ms/step - loss: 7.5089e-04 - accuracy: 1.0000 - val_loss: 0.0494 - val_accuracy: 0.9892\n",
            "Epoch 35/40\n",
            "844/844 [==============================] - 6s 7ms/step - loss: 6.9220e-04 - accuracy: 1.0000 - val_loss: 0.0491 - val_accuracy: 0.9893\n",
            "Epoch 36/40\n",
            "844/844 [==============================] - 6s 7ms/step - loss: 6.9278e-04 - accuracy: 1.0000 - val_loss: 0.0495 - val_accuracy: 0.9893\n",
            "Epoch 37/40\n",
            "844/844 [==============================] - 6s 7ms/step - loss: 7.0430e-04 - accuracy: 1.0000 - val_loss: 0.0495 - val_accuracy: 0.9892\n",
            "Epoch 38/40\n",
            "844/844 [==============================] - 6s 7ms/step - loss: 6.4344e-04 - accuracy: 1.0000 - val_loss: 0.0498 - val_accuracy: 0.9892\n",
            "Epoch 39/40\n",
            "844/844 [==============================] - 6s 7ms/step - loss: 6.3826e-04 - accuracy: 1.0000 - val_loss: 0.0494 - val_accuracy: 0.9890\n",
            "Epoch 40/40\n",
            "844/844 [==============================] - 5s 6ms/step - loss: 6.1354e-04 - accuracy: 1.0000 - val_loss: 0.0497 - val_accuracy: 0.9890\n"
          ],
          "name": "stdout"
        }
      ]
    },
    {
      "cell_type": "markdown",
      "metadata": {
        "id": "M0f5gs9CydZp"
      },
      "source": [
        "**CNN Model with Data Augmentation at best parameter from gridsearch**"
      ]
    },
    {
      "cell_type": "code",
      "metadata": {
        "id": "q4kYQFanD7Gf"
      },
      "source": [
        "from keras.preprocessing.image import ImageDataGenerator\n",
        "import pandas as pd\n",
        "import seaborn as sns"
      ],
      "execution_count": 11,
      "outputs": []
    },
    {
      "cell_type": "code",
      "metadata": {
        "colab": {
          "base_uri": "https://localhost:8080/",
          "height": 1000
        },
        "id": "tASaoWAgfCaf",
        "outputId": "548070e0-adf0-42f5-b8c3-3a0dd567877b"
      },
      "source": [
        "# optimize parameters of the fit method \n",
        "cnn_model = define_model(neurons = grid_result.best_params_['neurons'],\n",
        "                          learn_rate = grid_result.best_params_['learn_rate'],\n",
        "                          optimizer = grid_result.best_params_['optimizer'],\n",
        "                          conv_filter = grid_result.best_params_['conv_filter'])\n",
        "\n",
        "# With data augmentation \n",
        "datagen = ImageDataGenerator(\n",
        "        rotation_range=40,\n",
        "        width_shift_range=0.2,\n",
        "        height_shift_range=0.2,\n",
        "        horizontal_flip=True,\n",
        "        validation_split=0.1) \n",
        "\n",
        "datagen.fit(X_train)\n",
        "\n",
        "history = cnn_model.fit_generator(datagen.flow(X_train,y_train, batch_size=grid_result.best_params_['batch_size'], subset='training'),\n",
        "                                  epochs = grid_result.best_params_['epochs'], \n",
        "                                  validation_data =datagen.flow(X_train, y_train, batch_size=grid_result.best_params_['batch_size'], subset='validation'),\n",
        "                                  verbose = 1)                        \n",
        "\n",
        "# plot accuracy on training and validation data\n",
        "df_history = pd.DataFrame(history.history)\n",
        "sns.lineplot(data=df_history[['accuracy','val_accuracy']], palette=\"tab10\", linewidth=2.5);"
      ],
      "execution_count": 17,
      "outputs": [
        {
          "output_type": "stream",
          "text": [
            "/usr/local/lib/python3.7/dist-packages/tensorflow/python/keras/engine/training.py:1844: UserWarning: `Model.fit_generator` is deprecated and will be removed in a future version. Please use `Model.fit`, which supports generators.\n",
            "  warnings.warn('`Model.fit_generator` is deprecated and '\n"
          ],
          "name": "stderr"
        },
        {
          "output_type": "stream",
          "text": [
            "Epoch 1/40\n",
            "844/844 [==============================] - 23s 27ms/step - loss: 1.5117 - accuracy: 0.4937 - val_loss: 0.7983 - val_accuracy: 0.7412\n",
            "Epoch 2/40\n",
            "844/844 [==============================] - 23s 27ms/step - loss: 0.7526 - accuracy: 0.7573 - val_loss: 0.5878 - val_accuracy: 0.8158\n",
            "Epoch 3/40\n",
            "844/844 [==============================] - 23s 27ms/step - loss: 0.5909 - accuracy: 0.8076 - val_loss: 0.5353 - val_accuracy: 0.8265\n",
            "Epoch 4/40\n",
            "844/844 [==============================] - 22s 26ms/step - loss: 0.5159 - accuracy: 0.8318 - val_loss: 0.4711 - val_accuracy: 0.8547\n",
            "Epoch 5/40\n",
            "844/844 [==============================] - 23s 27ms/step - loss: 0.4700 - accuracy: 0.8463 - val_loss: 0.4772 - val_accuracy: 0.8478\n",
            "Epoch 6/40\n",
            "844/844 [==============================] - 22s 27ms/step - loss: 0.4353 - accuracy: 0.8597 - val_loss: 0.3995 - val_accuracy: 0.8767\n",
            "Epoch 7/40\n",
            "844/844 [==============================] - 22s 26ms/step - loss: 0.4116 - accuracy: 0.8678 - val_loss: 0.3880 - val_accuracy: 0.8722\n",
            "Epoch 8/40\n",
            "844/844 [==============================] - 22s 27ms/step - loss: 0.3773 - accuracy: 0.8791 - val_loss: 0.3625 - val_accuracy: 0.8860\n",
            "Epoch 9/40\n",
            "844/844 [==============================] - 22s 27ms/step - loss: 0.3634 - accuracy: 0.8837 - val_loss: 0.3449 - val_accuracy: 0.8932\n",
            "Epoch 10/40\n",
            "844/844 [==============================] - 22s 26ms/step - loss: 0.3523 - accuracy: 0.8879 - val_loss: 0.4463 - val_accuracy: 0.8617\n",
            "Epoch 11/40\n",
            "844/844 [==============================] - 22s 26ms/step - loss: 0.3306 - accuracy: 0.8924 - val_loss: 0.3333 - val_accuracy: 0.8940\n",
            "Epoch 12/40\n",
            "844/844 [==============================] - 23s 27ms/step - loss: 0.3196 - accuracy: 0.8985 - val_loss: 0.2924 - val_accuracy: 0.9082\n",
            "Epoch 13/40\n",
            "844/844 [==============================] - 23s 27ms/step - loss: 0.3222 - accuracy: 0.8971 - val_loss: 0.3107 - val_accuracy: 0.9005\n",
            "Epoch 14/40\n",
            "844/844 [==============================] - 23s 27ms/step - loss: 0.2960 - accuracy: 0.9062 - val_loss: 0.2944 - val_accuracy: 0.9083\n",
            "Epoch 15/40\n",
            "844/844 [==============================] - 23s 27ms/step - loss: 0.2938 - accuracy: 0.9070 - val_loss: 0.2873 - val_accuracy: 0.9075\n",
            "Epoch 16/40\n",
            "844/844 [==============================] - 24s 28ms/step - loss: 0.2816 - accuracy: 0.9126 - val_loss: 0.2763 - val_accuracy: 0.9098\n",
            "Epoch 17/40\n",
            "844/844 [==============================] - 23s 28ms/step - loss: 0.2804 - accuracy: 0.9125 - val_loss: 0.2710 - val_accuracy: 0.9158\n",
            "Epoch 18/40\n",
            "844/844 [==============================] - 23s 27ms/step - loss: 0.2705 - accuracy: 0.9138 - val_loss: 0.2653 - val_accuracy: 0.9165\n",
            "Epoch 19/40\n",
            "844/844 [==============================] - 23s 27ms/step - loss: 0.2618 - accuracy: 0.9156 - val_loss: 0.2694 - val_accuracy: 0.9220\n",
            "Epoch 20/40\n",
            "844/844 [==============================] - 23s 27ms/step - loss: 0.2629 - accuracy: 0.9165 - val_loss: 0.2631 - val_accuracy: 0.9190\n",
            "Epoch 21/40\n",
            "844/844 [==============================] - 23s 28ms/step - loss: 0.2462 - accuracy: 0.9224 - val_loss: 0.2726 - val_accuracy: 0.9185\n",
            "Epoch 22/40\n",
            "844/844 [==============================] - 23s 27ms/step - loss: 0.2523 - accuracy: 0.9206 - val_loss: 0.2621 - val_accuracy: 0.9175\n",
            "Epoch 23/40\n",
            "844/844 [==============================] - 23s 27ms/step - loss: 0.2464 - accuracy: 0.9224 - val_loss: 0.2324 - val_accuracy: 0.9232\n",
            "Epoch 24/40\n",
            "844/844 [==============================] - 23s 27ms/step - loss: 0.2459 - accuracy: 0.9233 - val_loss: 0.2237 - val_accuracy: 0.9295\n",
            "Epoch 25/40\n",
            "844/844 [==============================] - 23s 27ms/step - loss: 0.2328 - accuracy: 0.9269 - val_loss: 0.2636 - val_accuracy: 0.9223\n",
            "Epoch 26/40\n",
            "844/844 [==============================] - 23s 27ms/step - loss: 0.2345 - accuracy: 0.9255 - val_loss: 0.2380 - val_accuracy: 0.9263\n",
            "Epoch 27/40\n",
            "844/844 [==============================] - 23s 28ms/step - loss: 0.2348 - accuracy: 0.9252 - val_loss: 0.2649 - val_accuracy: 0.9212\n",
            "Epoch 28/40\n",
            "844/844 [==============================] - 24s 28ms/step - loss: 0.2300 - accuracy: 0.9276 - val_loss: 0.2602 - val_accuracy: 0.9133\n",
            "Epoch 29/40\n",
            "844/844 [==============================] - 23s 27ms/step - loss: 0.2213 - accuracy: 0.9299 - val_loss: 0.2827 - val_accuracy: 0.9133\n",
            "Epoch 30/40\n",
            "844/844 [==============================] - 23s 27ms/step - loss: 0.2295 - accuracy: 0.9293 - val_loss: 0.2497 - val_accuracy: 0.9225\n",
            "Epoch 31/40\n",
            "844/844 [==============================] - 23s 27ms/step - loss: 0.2264 - accuracy: 0.9275 - val_loss: 0.2261 - val_accuracy: 0.9298\n",
            "Epoch 32/40\n",
            "844/844 [==============================] - 23s 27ms/step - loss: 0.2171 - accuracy: 0.9292 - val_loss: 0.2168 - val_accuracy: 0.9328\n",
            "Epoch 33/40\n",
            "844/844 [==============================] - 22s 26ms/step - loss: 0.2112 - accuracy: 0.9339 - val_loss: 0.2342 - val_accuracy: 0.9293\n",
            "Epoch 34/40\n",
            "844/844 [==============================] - 23s 27ms/step - loss: 0.2097 - accuracy: 0.9354 - val_loss: 0.2155 - val_accuracy: 0.9305\n",
            "Epoch 35/40\n",
            "844/844 [==============================] - 23s 27ms/step - loss: 0.2104 - accuracy: 0.9346 - val_loss: 0.2155 - val_accuracy: 0.9325\n",
            "Epoch 36/40\n",
            "844/844 [==============================] - 23s 27ms/step - loss: 0.2126 - accuracy: 0.9311 - val_loss: 0.2029 - val_accuracy: 0.9368\n",
            "Epoch 37/40\n",
            "844/844 [==============================] - 23s 27ms/step - loss: 0.2058 - accuracy: 0.9345 - val_loss: 0.2128 - val_accuracy: 0.9320\n",
            "Epoch 38/40\n",
            "844/844 [==============================] - 23s 27ms/step - loss: 0.2074 - accuracy: 0.9346 - val_loss: 0.1966 - val_accuracy: 0.9362\n",
            "Epoch 39/40\n",
            "844/844 [==============================] - 23s 27ms/step - loss: 0.2074 - accuracy: 0.9354 - val_loss: 0.2001 - val_accuracy: 0.9373\n",
            "Epoch 40/40\n",
            "844/844 [==============================] - 24s 28ms/step - loss: 0.2077 - accuracy: 0.9357 - val_loss: 0.2166 - val_accuracy: 0.9320\n"
          ],
          "name": "stdout"
        },
        {
          "output_type": "display_data",
          "data": {
            "image/png": "[encoded data removed]",
            "text/plain": [
              "<Figure size 432x288 with 1 Axes>"
            ]
          },
          "metadata": {
            "tags": [],
            "needs_background": "light"
          }
        }
      ]
    },
    {
      "cell_type": "code",
      "metadata": {
        "id": "c0zmHyosfCVF"
      },
      "source": [
        "from sklearn.metrics import accuracy_score,precision_score,recall_score,f1_score,confusion_matrix"
      ],
      "execution_count": 18,
      "outputs": []
    },
    {
      "cell_type": "code",
      "metadata": {
        "id": "hYCY9MDjTh5J"
      },
      "source": [
        "# predict classes for test set\n",
        "yhat = cnn_model.predict(X_test) "
      ],
      "execution_count": 23,
      "outputs": []
    },
    {
      "cell_type": "code",
      "metadata": {
        "colab": {
          "base_uri": "https://localhost:8080/"
        },
        "id": "QKMRggG1fCSV",
        "outputId": "4e10c6b2-7857-415d-aa2f-515fa2a3ddca"
      },
      "source": [
        "\n",
        "ypred = np.argmax(yhat,axis=1)\n",
        "ytest = np.argmax(y_test,axis=1)\n",
        "\n",
        "accuracy = accuracy_score(ytest, ypred)\n",
        "print('Accuracy: %f' % accuracy)\n",
        "\n",
        "precision = precision_score(ytest, ypred,pos_label='positive',average='micro')\n",
        "print('Precision: %f' % precision)\n",
        "\n",
        "recall = recall_score(ytest, ypred, pos_label='positive',average='micro')\n",
        "print('Recall: %f' % recall)\n",
        "\n",
        "f1 = f1_score(ytest, ypred, pos_label='positive',average='micro')\n",
        "print('F1 score: %f' % f1)\n",
        "\n",
        "conf_matrix = confusion_matrix(ytest, ypred)\n",
        "print('Confusion Matrix: \\n')\n",
        "print(conf_matrix)"
      ],
      "execution_count": 41,
      "outputs": [
        {
          "output_type": "stream",
          "text": [
            "Accuracy: 0.928400\n",
            "Precision: 0.928400\n",
            "Recall: 0.928400\n",
            "F1 score: 0.928400\n",
            "Confusion Matrix: \n",
            "\n",
            "[[ 942    0    4    8    2    4    3    2    3   12]\n",
            " [   1 1083    4    5    6    0    1   33    2    0]\n",
            " [   0    5  889   33   14   58    6   19    7    1]\n",
            " [   0    2    0  999    0    8    0    1    0    0]\n",
            " [   0    0    4    0  951    0    1   11    4   11]\n",
            " [   0    1    7  120    0  754    3    6    0    1]\n",
            " [   4    4   29   10    5   27  876    1    2    0]\n",
            " [   0    1   32   33    4   13    0  934    4    7]\n",
            " [   0    0    6   38    3    8    0    2  909    8]\n",
            " [   0    0    2   28   10    7    0    8    7  947]]\n"
          ],
          "name": "stdout"
        },
        {
          "output_type": "stream",
          "text": [
            "/usr/local/lib/python3.7/dist-packages/sklearn/metrics/_classification.py:1321: UserWarning: Note that pos_label (set to 'positive') is ignored when average != 'binary' (got 'micro'). You may use labels=[pos_label] to specify a single positive class.\n",
            "  % (pos_label, average), UserWarning)\n"
          ],
          "name": "stderr"
        }
      ]
    },
    {
      "cell_type": "code",
      "metadata": {
        "id": "qSqN3fk7Ux66"
      },
      "source": [
        ""
      ],
      "execution_count": null,
      "outputs": []
    }
  ]
}